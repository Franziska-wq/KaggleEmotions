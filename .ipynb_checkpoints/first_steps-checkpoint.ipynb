{
 "cells": [
  {
   "cell_type": "code",
   "execution_count": 1,
   "id": "3c36fe8a",
   "metadata": {},
   "outputs": [],
   "source": [
    "# process text files so that a list is returned with [<sentence>,<emotion>]\n",
    "\n",
    "def read_file(file_path):\n",
    "    data = []\n",
    "    with open(file_path,'r') as file:\n",
    "        for line in file:\n",
    "            data.append(line.strip().split(\";\"))\n",
    "    return data"
   ]
  },
  {
   "cell_type": "code",
   "execution_count": 2,
   "id": "5378e9a9",
   "metadata": {},
   "outputs": [],
   "source": [
    "# paths for the three files\n",
    "\n",
    "train_file = \"./data/train.txt\"\n",
    "test_file = \"./data/test.txt\"\n",
    "val_file = \"./data/val.txt\""
   ]
  }
 ],
 "metadata": {
  "kernelspec": {
   "display_name": "Python 3 (ipykernel)",
   "language": "python",
   "name": "python3"
  },
  "language_info": {
   "codemirror_mode": {
    "name": "ipython",
    "version": 3
   },
   "file_extension": ".py",
   "mimetype": "text/x-python",
   "name": "python",
   "nbconvert_exporter": "python",
   "pygments_lexer": "ipython3",
   "version": "3.11.4"
  }
 },
 "nbformat": 4,
 "nbformat_minor": 5
}
