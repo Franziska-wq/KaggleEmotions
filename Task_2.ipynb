{
 "cells": [
  {
   "cell_type": "code",
   "execution_count": 5,
   "metadata": {},
   "outputs": [],
   "source": [
    "import pandas as pd\n",
    "import matplotlib.pyplot as plt\n",
    "\n",
    "def concat_categories_to_file(file_path, file_name, export_path):\n",
    "    data = pd.read_csv(\"{}/{}.txt\".format(file_path,file_name),sep=';')\n",
    "    tweets = data.iloc[:, 0]\n",
    "    categories = data.iloc[:, 1]\n",
    "\n",
    "    category_tweets = {}\n",
    "    for category, tweet in zip(categories, tweets):\n",
    "        if category not in category_tweets:\n",
    "            category_tweets[category] = []\n",
    "        category_tweets[category].append(tweet)\n",
    "\n",
    "    result = pd.DataFrame(category_tweets.items(),columns=['Category', 'Concatenated_Tweets'])\n",
    "    result.to_csv('{}/{}.csv'.format(export_path,file_name), index=False, encoding='utf-8')\n",
    "\n",
    "\n",
    "concat_categories_to_file('data','test','categories')\n",
    "concat_categories_to_file('data','train','categories')\n",
    "concat_categories_to_file('data','val','categories')"
   ]
  }
 ],
 "metadata": {
  "kernelspec": {
   "display_name": "Python 3",
   "language": "python",
   "name": "python3"
  },
  "language_info": {
   "codemirror_mode": {
    "name": "ipython",
    "version": 3
   },
   "file_extension": ".py",
   "mimetype": "text/x-python",
   "name": "python",
   "nbconvert_exporter": "python",
   "pygments_lexer": "ipython3",
   "version": "3.10.9"
  }
 },
 "nbformat": 4,
 "nbformat_minor": 2
}
