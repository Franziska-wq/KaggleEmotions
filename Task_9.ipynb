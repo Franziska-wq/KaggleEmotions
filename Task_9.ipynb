{
 "cells": [
  {
   "cell_type": "code",
   "execution_count": 1,
   "id": "6798f114",
   "metadata": {},
   "outputs": [
    {
     "ename": "ImportError",
     "evalue": "cannot import name 'DeepMojiModel' from 'transformers' (c:\\Users\\Anh\\anaconda3\\lib\\site-packages\\transformers\\__init__.py)",
     "output_type": "error",
     "traceback": [
      "\u001b[1;31m---------------------------------------------------------------------------\u001b[0m",
      "\u001b[1;31mImportError\u001b[0m                               Traceback (most recent call last)",
      "\u001b[1;32md:\\StudyTool\\KaggleEmotions\\Task_9.ipynb Cell 1\u001b[0m line \u001b[0;36m1\n\u001b[1;32m----> <a href='vscode-notebook-cell:/d%3A/StudyTool/KaggleEmotions/Task_9.ipynb#W0sZmlsZQ%3D%3D?line=0'>1</a>\u001b[0m \u001b[39mfrom\u001b[39;00m \u001b[39mtransformers\u001b[39;00m \u001b[39mimport\u001b[39;00m DeepMojiModel, DeepMojiTokenizer\n\u001b[0;32m      <a href='vscode-notebook-cell:/d%3A/StudyTool/KaggleEmotions/Task_9.ipynb#W0sZmlsZQ%3D%3D?line=2'>3</a>\u001b[0m \u001b[39m# Load the pre-trained DeepMoji model and tokenizer\u001b[39;00m\n\u001b[0;32m      <a href='vscode-notebook-cell:/d%3A/StudyTool/KaggleEmotions/Task_9.ipynb#W0sZmlsZQ%3D%3D?line=3'>4</a>\u001b[0m model \u001b[39m=\u001b[39m DeepMojiModel\u001b[39m.\u001b[39mfrom_pretrained(\u001b[39m\"\u001b[39m\u001b[39mhylian/moji\u001b[39m\u001b[39m\"\u001b[39m)\n",
      "\u001b[1;31mImportError\u001b[0m: cannot import name 'DeepMojiModel' from 'transformers' (c:\\Users\\Anh\\anaconda3\\lib\\site-packages\\transformers\\__init__.py)"
     ]
    }
   ],
   "source": [
    "from transformers import DeepMojiModel, DeepMojiTokenizer\n",
    "\n",
    "# Load the pre-trained DeepMoji model and tokenizer\n",
    "model = DeepMojiModel.from_pretrained(\"hylian/moji\")\n",
    "tokenizer = DeepMojiTokenizer.from_pretrained(\"hylian/moji\")"
   ]
  },
  {
   "cell_type": "code",
   "execution_count": null,
   "id": "669f1c41",
   "metadata": {},
   "outputs": [],
   "source": []
  }
 ],
 "metadata": {
  "kernelspec": {
   "display_name": "Python 3 (ipykernel)",
   "language": "python",
   "name": "python3"
  },
  "language_info": {
   "codemirror_mode": {
    "name": "ipython",
    "version": 3
   },
   "file_extension": ".py",
   "mimetype": "text/x-python",
   "name": "python",
   "nbconvert_exporter": "python",
   "pygments_lexer": "ipython3",
   "version": "3.10.9"
  }
 },
 "nbformat": 4,
 "nbformat_minor": 5
}
